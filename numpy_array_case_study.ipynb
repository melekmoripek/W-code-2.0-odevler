{
 "cells": [
  {
   "cell_type": "markdown",
   "id": "9a3025fc-16d5-46af-a40a-a28fd9f8d62f",
   "metadata": {},
   "source": [
    "1.Sayılardan oluşan bir boyutlu array oluşturun. Arrayi oluştururken sayıların veri tipini integer olarak belirtelim.\n",
    "\n",
    "Oluşturulan arrayin boyut, eleman sayısı bilgilerine bakalım.\n",
    "\n",
    "2. Aşağıda verilen iki boyutlu ve üç boyutlu arrayi oluşturalım. Bu arraylerin boyut, eleman sayısı, satır, sütun bilgilerine ulaşalım.\n",
    "\n",
    "İki boyutlu array:\n",
    "[[1,2,6,7],\n",
    "[4,3,9,5]]\n",
    "\n",
    "Üç boyutlu array:\n",
    "[[[7,5,14],[21,8,11]],\n",
    "[[8,6,20],[14,3,9]]]\n",
    "\n",
    "3. İstenilen elamanlara ulaşmak için arrayler üzerinde indexleme işlemi yapalım.\n",
    "\n",
    "İki boyutlu arraydaki 2 elemanına ulaşalım.\n",
    "\n",
    "İki boyutlu arraydaki 7 elemanına ulaşalım.\n",
    "\n",
    "Üç boyutlu arraydaki 9 elemanına ulaşalım.\n",
    "\n",
    "Üç boyutlu arraydaki 5 elemanına ulaşalım.\n",
    "\n",
    "4. Arrayler üzerinde slicing işlemi uygulayalım.\n",
    "\n",
    "İki boyutlu arraydaki 2,6 elemanlarına ulaşalım.\n",
    "\n",
    "İki boyutlu arraydaki 3,9,5 elemanlarına ulaşalım.\n",
    "\n",
    "Üç boyutlu arraydaki 21,8,11 elemanlarına ulaşalım.\n",
    "\n",
    "Üç boyutlu arraydaki 6,20 elemanlarına ulaşalım.\n",
    "\n",
    "5. 5 satır 3 sütunluk sıfırlardan ve birlerden oluşan iki tane iki boyutlu array oluşturalım. Bu arrayleri satır ve sütun bazında birleştirelim."
   ]
  },
  {
   "cell_type": "code",
   "execution_count": 7,
   "id": "06100176-1950-49d4-91c7-87e4751e6020",
   "metadata": {},
   "outputs": [
    {
     "data": {
      "text/plain": [
       "array([1, 2, 3, 4, 5])"
      ]
     },
     "execution_count": 7,
     "metadata": {},
     "output_type": "execute_result"
    }
   ],
   "source": [
    "# 1.Sayılardan oluşan bir boyutlu array oluşturun. Arrayi oluştururken sayıların veri tipini integer olarak belirtelim.\n",
    "import numpy as np\n",
    "array = np.array([1,2,3,4,5], dtype = int)\n",
    "array"
   ]
  },
  {
   "cell_type": "code",
   "execution_count": 11,
   "id": "7edb81fb-705e-420a-8e4a-5949e73c0a26",
   "metadata": {},
   "outputs": [
    {
     "name": "stdout",
     "output_type": "stream",
     "text": [
      "1\n",
      "(5,)\n",
      "5\n"
     ]
    }
   ],
   "source": [
    "# Oluşturulan arrayin boyut, eleman sayısı bilgilerine bakalım.\n",
    "\n",
    "print(array.ndim)\n",
    "print(array.shape)\n",
    "print(array.size)"
   ]
  },
  {
   "cell_type": "code",
   "execution_count": 16,
   "id": "207ab6a1-980d-49a7-b018-f144e447e2aa",
   "metadata": {},
   "outputs": [
    {
     "name": "stdout",
     "output_type": "stream",
     "text": [
      "[[1 2 6 7]\n",
      " [4 3 9 5]]\n",
      "[[[ 7  5 14]\n",
      "  [21  8 11]]\n",
      "\n",
      " [[ 8  6 20]\n",
      "  [14  3  9]]]\n"
     ]
    }
   ],
   "source": [
    "# 2. Aşağıda verilen iki boyutlu ve üç boyutlu arrayi oluşturalım. Bu arraylerin boyut, eleman sayısı, satır, sütun bilgilerine ulaşalım.\n",
    "\n",
    "\n",
    "array2 = np.array([[1,2,6,7],\n",
    "[4,3,9,5]])\n",
    "\n",
    "\n",
    "array3 = np.array([[[7,5,14],[21,8,11]],\n",
    "[[8,6,20],[14,3,9]]])\n",
    "\n",
    "print(array2)\n",
    "print(array3)"
   ]
  },
  {
   "cell_type": "code",
   "execution_count": 17,
   "id": "ebd3bd63-d936-4723-afdf-fe93447c3192",
   "metadata": {},
   "outputs": [
    {
     "name": "stdout",
     "output_type": "stream",
     "text": [
      "2\n",
      "(2, 4)\n",
      "8\n"
     ]
    }
   ],
   "source": [
    "print(array2.ndim) # boyut bilgisi\n",
    "print(array2.shape) # satır sütun bilgisi\n",
    "print(array2.size) # eleman sayısı "
   ]
  },
  {
   "cell_type": "code",
   "execution_count": 18,
   "id": "5b5c6533-942b-4a1b-82fd-bed9de70c959",
   "metadata": {},
   "outputs": [
    {
     "name": "stdout",
     "output_type": "stream",
     "text": [
      "3\n",
      "(2, 2, 3)\n",
      "12\n"
     ]
    }
   ],
   "source": [
    "print(array3.ndim)\n",
    "print(array3.shape)\n",
    "print(array3.size)"
   ]
  },
  {
   "cell_type": "code",
   "execution_count": 19,
   "id": "fc595fcd-af7d-42d7-a9e2-e733b9bd9cc5",
   "metadata": {},
   "outputs": [
    {
     "data": {
      "text/plain": [
       "array([[1, 2, 6, 7],\n",
       "       [4, 3, 9, 5]])"
      ]
     },
     "execution_count": 19,
     "metadata": {},
     "output_type": "execute_result"
    }
   ],
   "source": [
    "array2"
   ]
  },
  {
   "cell_type": "code",
   "execution_count": 20,
   "id": "01df6bf0-4d5e-4ed3-a33d-b2cbd61db1c7",
   "metadata": {},
   "outputs": [
    {
     "data": {
      "text/plain": [
       "2"
      ]
     },
     "execution_count": 20,
     "metadata": {},
     "output_type": "execute_result"
    }
   ],
   "source": [
    "# 3. İstenilen elamanlara ulaşmak için arrayler üzerinde indexleme işlemi yapalım.\n",
    "# İki boyutlu arraydaki 2 elemanına ulaşalım.\n",
    "array2[0,1] # [satır, sütun]"
   ]
  },
  {
   "cell_type": "code",
   "execution_count": 21,
   "id": "05bc0fe5-0030-44ca-9b8f-79a505a899e0",
   "metadata": {},
   "outputs": [
    {
     "data": {
      "text/plain": [
       "7"
      ]
     },
     "execution_count": 21,
     "metadata": {},
     "output_type": "execute_result"
    }
   ],
   "source": [
    "# İki boyutlu arraydaki 7 elemanına ulaşalım.\n",
    "array2[0,3]"
   ]
  },
  {
   "cell_type": "code",
   "execution_count": 22,
   "id": "0084e305-aac9-43e3-8c23-e92e104f1feb",
   "metadata": {},
   "outputs": [
    {
     "data": {
      "text/plain": [
       "array([[[ 7,  5, 14],\n",
       "        [21,  8, 11]],\n",
       "\n",
       "       [[ 8,  6, 20],\n",
       "        [14,  3,  9]]])"
      ]
     },
     "execution_count": 22,
     "metadata": {},
     "output_type": "execute_result"
    }
   ],
   "source": [
    "array3"
   ]
  },
  {
   "cell_type": "code",
   "execution_count": 23,
   "id": "b50766e7-373a-4c96-a602-b56ffc40a411",
   "metadata": {},
   "outputs": [
    {
     "data": {
      "text/plain": [
       "9"
      ]
     },
     "execution_count": 23,
     "metadata": {},
     "output_type": "execute_result"
    }
   ],
   "source": [
    "# Üç boyutlu arraydaki 9 elemanına ulaşalım.\n",
    "array3[1,1,2]"
   ]
  },
  {
   "cell_type": "code",
   "execution_count": null,
   "id": "f814337a-80ec-4d02-95c4-0a205d4d4bd3",
   "metadata": {},
   "outputs": [],
   "source": [
    "# Üç boyutlu arraydaki 5 elemanına ulaşalım."
   ]
  },
  {
   "cell_type": "code",
   "execution_count": 24,
   "id": "9883e6f5-9d00-4e79-8cb8-4c78ca0fab23",
   "metadata": {},
   "outputs": [
    {
     "data": {
      "text/plain": [
       "5"
      ]
     },
     "execution_count": 24,
     "metadata": {},
     "output_type": "execute_result"
    }
   ],
   "source": [
    "array3[0,0,1]"
   ]
  },
  {
   "cell_type": "code",
   "execution_count": 25,
   "id": "56ba1364-a871-4649-b899-c7ff05d79fe2",
   "metadata": {},
   "outputs": [
    {
     "data": {
      "text/plain": [
       "array([[1, 2, 6, 7],\n",
       "       [4, 3, 9, 5]])"
      ]
     },
     "execution_count": 25,
     "metadata": {},
     "output_type": "execute_result"
    }
   ],
   "source": [
    "array2"
   ]
  },
  {
   "cell_type": "code",
   "execution_count": 29,
   "id": "6c0fb07d-f54f-41ff-aa43-79b6128baea9",
   "metadata": {},
   "outputs": [
    {
     "data": {
      "text/plain": [
       "array([2, 6])"
      ]
     },
     "execution_count": 29,
     "metadata": {},
     "output_type": "execute_result"
    }
   ],
   "source": [
    "# 4. Arrayler üzerinde slicing işlemi uygulayalım.\n",
    "#İki boyutlu arraydaki 2,6 elemanlarına ulaşalım.\n",
    "array2[0, 1:3]"
   ]
  },
  {
   "cell_type": "code",
   "execution_count": 30,
   "id": "45858b10-0474-4f5d-90ed-dbcdcbe04ea4",
   "metadata": {},
   "outputs": [
    {
     "data": {
      "text/plain": [
       "array([3, 9, 5])"
      ]
     },
     "execution_count": 30,
     "metadata": {},
     "output_type": "execute_result"
    }
   ],
   "source": [
    "# İki boyutlu arraydaki 3,9,5 elemanlarına ulaşalım.\n",
    "array2[1, 1:4]"
   ]
  },
  {
   "cell_type": "code",
   "execution_count": 31,
   "id": "9a85d242-2047-47b1-9c40-5993ada619b3",
   "metadata": {},
   "outputs": [
    {
     "data": {
      "text/plain": [
       "array([[[ 7,  5, 14],\n",
       "        [21,  8, 11]],\n",
       "\n",
       "       [[ 8,  6, 20],\n",
       "        [14,  3,  9]]])"
      ]
     },
     "execution_count": 31,
     "metadata": {},
     "output_type": "execute_result"
    }
   ],
   "source": [
    "array3"
   ]
  },
  {
   "cell_type": "code",
   "execution_count": 32,
   "id": "4b6bfdbd-2372-4d24-a850-8b2ad6cbcf31",
   "metadata": {},
   "outputs": [
    {
     "data": {
      "text/plain": [
       "array([21,  8, 11])"
      ]
     },
     "execution_count": 32,
     "metadata": {},
     "output_type": "execute_result"
    }
   ],
   "source": [
    "#Üç boyutlu arraydaki 21,8,11 elemanlarına ulaşalım.\n",
    "array3[0,1,0:]"
   ]
  },
  {
   "cell_type": "code",
   "execution_count": 33,
   "id": "bd0cc384-acc7-4a41-a69f-690830f68e9d",
   "metadata": {},
   "outputs": [
    {
     "data": {
      "text/plain": [
       "array([ 6, 20])"
      ]
     },
     "execution_count": 33,
     "metadata": {},
     "output_type": "execute_result"
    }
   ],
   "source": [
    "# Üç boyutlu arraydaki 6,20 elemanlarına ulaşalım.\n",
    "array3[1,0,1:]"
   ]
  },
  {
   "cell_type": "code",
   "execution_count": 34,
   "id": "a89f53d9-89a8-4fa7-bb60-aabcbe5bf2be",
   "metadata": {},
   "outputs": [],
   "source": [
    "#5 satır 3 sütunluk sıfırlardan ve birlerden oluşan iki tane iki boyutlu array oluşturalım. Bu arrayleri satır ve sütun bazında birleştirelim.\n",
    "array0 = np.zeros((5,3), dtype = int)\n",
    "array1 = np.ones ((5,3), dtype = int)"
   ]
  },
  {
   "cell_type": "code",
   "execution_count": 35,
   "id": "2189b274-0f54-499d-ab9c-11325f4319fc",
   "metadata": {},
   "outputs": [
    {
     "data": {
      "text/plain": [
       "array([[0, 0, 0],\n",
       "       [0, 0, 0],\n",
       "       [0, 0, 0],\n",
       "       [0, 0, 0],\n",
       "       [0, 0, 0]])"
      ]
     },
     "execution_count": 35,
     "metadata": {},
     "output_type": "execute_result"
    }
   ],
   "source": [
    "array0"
   ]
  },
  {
   "cell_type": "code",
   "execution_count": 36,
   "id": "cd22a966-8475-446c-b8ad-a048d14cfaa0",
   "metadata": {},
   "outputs": [
    {
     "data": {
      "text/plain": [
       "array([[1, 1, 1],\n",
       "       [1, 1, 1],\n",
       "       [1, 1, 1],\n",
       "       [1, 1, 1],\n",
       "       [1, 1, 1]])"
      ]
     },
     "execution_count": 36,
     "metadata": {},
     "output_type": "execute_result"
    }
   ],
   "source": [
    "array1"
   ]
  },
  {
   "cell_type": "code",
   "execution_count": 38,
   "id": "fffe181a-6ed2-4e06-aa77-845d98b01246",
   "metadata": {},
   "outputs": [
    {
     "data": {
      "text/plain": [
       "array([[0, 0, 0],\n",
       "       [0, 0, 0],\n",
       "       [0, 0, 0],\n",
       "       [0, 0, 0],\n",
       "       [0, 0, 0],\n",
       "       [1, 1, 1],\n",
       "       [1, 1, 1],\n",
       "       [1, 1, 1],\n",
       "       [1, 1, 1],\n",
       "       [1, 1, 1]])"
      ]
     },
     "execution_count": 38,
     "metadata": {},
     "output_type": "execute_result"
    }
   ],
   "source": [
    "#satır bazında birleştir: \n",
    "satir = np.concatenate ((array0,array1), axis=0)\n",
    "satir"
   ]
  },
  {
   "cell_type": "code",
   "execution_count": 39,
   "id": "caca9e72-b5ec-45f9-a3f9-c6cf5f85b44f",
   "metadata": {},
   "outputs": [
    {
     "data": {
      "text/plain": [
       "array([[0, 0, 0, 1, 1, 1],\n",
       "       [0, 0, 0, 1, 1, 1],\n",
       "       [0, 0, 0, 1, 1, 1],\n",
       "       [0, 0, 0, 1, 1, 1],\n",
       "       [0, 0, 0, 1, 1, 1]])"
      ]
     },
     "execution_count": 39,
     "metadata": {},
     "output_type": "execute_result"
    }
   ],
   "source": [
    "#sütun bazında birleştir: \n",
    "sutun = np.concatenate ((array0,array1), axis=1)\n",
    "sutun"
   ]
  },
  {
   "cell_type": "code",
   "execution_count": null,
   "id": "cdc15971-4775-4776-be45-f93a8d663de1",
   "metadata": {},
   "outputs": [],
   "source": []
  }
 ],
 "metadata": {
  "kernelspec": {
   "display_name": "Python [conda env:base] *",
   "language": "python",
   "name": "conda-base-py"
  },
  "language_info": {
   "codemirror_mode": {
    "name": "ipython",
    "version": 3
   },
   "file_extension": ".py",
   "mimetype": "text/x-python",
   "name": "python",
   "nbconvert_exporter": "python",
   "pygments_lexer": "ipython3",
   "version": "3.12.7"
  }
 },
 "nbformat": 4,
 "nbformat_minor": 5
}
