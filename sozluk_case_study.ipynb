{
 "cells": [
  {
   "cell_type": "markdown",
   "id": "d137e7bb-a9f6-4e9d-9e15-08419c2f0a49",
   "metadata": {},
   "source": [
    "Bir sözlük oluşturulur ve bu sözlükte öğrencilerin isimleri ve Matematik, Fizik, Kimya notları tutulur. Kullanıcıdan isim ve ders ismi(Matematik, Fizik, Kimya) istenir ve bu bilgilere göre çıktı verilir."
   ]
  },
  {
   "cell_type": "code",
   "execution_count": 1,
   "id": "783b1acc-f4bd-4e2a-be8f-3f9cf176408c",
   "metadata": {},
   "outputs": [
    {
     "name": "stdin",
     "output_type": "stream",
     "text": [
      "Lütfen isminizi girin:  Ali\n",
      "Lütfen notunuzu öğrenmek istediğiniz dersin adını girin:  Matematik\n"
     ]
    },
    {
     "name": "stdout",
     "output_type": "stream",
     "text": [
      "Sevgili Ali, Matematik dersinden aldığınız not: 75\n"
     ]
    }
   ],
   "source": [
    "sozluk = {\"Ali\": {\"Matematik\" : 75, \"Fizik\": 52, \"Kimya\": 67},\n",
    "         \"Pelinsu\": {\"Matematik\": 98, \"Fizik\": 92, \"Kimya\": 100},\n",
    "         \"Mete\": {\"Matematik\": 82, \"Fizik\": 78, \"Kimya\": 89}\n",
    "         }\n",
    "isim = input(\"Lütfen isminizi girin: \")\n",
    "ders = input (\"Lütfen notunuzu öğrenmek istediğiniz dersin adını girin: \")\n",
    "\n",
    "if isim in sozluk and ders in sozluk[isim]:\n",
    "    print(f\"Sevgili {isim}, {ders} dersinden aldığınız not: {sozluk[isim][ders]}\")\n",
    "else: \n",
    "    print (\"Sistemde kayıtlı olmayan isim veya ders girdiniz. Lütfen tekrar deneyin.\")\n"
   ]
  },
  {
   "cell_type": "markdown",
   "id": "99095cf2-cfa4-4eaa-bd31-512e8302db5e",
   "metadata": {},
   "source": [
    "--------------------------------"
   ]
  },
  {
   "cell_type": "markdown",
   "id": "b55e2230-8082-4ead-a7a9-edc0eafc2835",
   "metadata": {},
   "source": [
    "Sözlük üzerinde değerleri değiştirme, yeni değer ekleme, kullanıcıya ulaşmak istediği bilgileri sorma gibi uygulamalar yapın."
   ]
  },
  {
   "cell_type": "code",
   "execution_count": 2,
   "id": "45b253a1-3908-4456-9ecc-2c162270f144",
   "metadata": {},
   "outputs": [
    {
     "name": "stdin",
     "output_type": "stream",
     "text": [
      "Giriş tipinizi yazınız (Öğrenci/Öğretmen):  Öğretmen\n",
      "Notunu değiştirmek istediğiniz öğrenci adı yazın:  Pelinsu\n",
      "Öğrencinin notunu değiştirmek istediğiniz dersini yazın:  Fizik\n",
      "Güncel notu girin:  95\n"
     ]
    },
    {
     "name": "stdout",
     "output_type": "stream",
     "text": [
      "Pelinsu adlı öğrencinin Fizik dersine ait notu 95 olarak güncellendi.\n"
     ]
    }
   ],
   "source": [
    "#değer değiştirme yalnızca öğretmen tarafından yapılabilir olsun. \n",
    "#Bu nedenle basic bir giriş tipi eklendi. Öğrenci ise notunu görüntülüyor, öğretmen ise notu görüntülemeden yalnızca güncelliyor.  \n",
    "while True:\n",
    "    authorization = input (\"Giriş tipinizi yazınız (Öğrenci/Öğretmen): \")\n",
    "\n",
    "    if authorization == \"Öğrenci\":\n",
    "         isim = input(\"Lütfen isminizi girin: \")\n",
    "         ders = input (\"Lütfen notunuzu öğrenmek istediğiniz dersin adını girin: \")\n",
    "         \n",
    "         if isim in sozluk and ders in sozluk[isim]:\n",
    "            print(f\"Sevgili {isim}, {ders} dersinden aldığınız not: {sozluk[isim][ders]}\")\n",
    "         else: \n",
    "            print (\"Sistemde kayıtlı olmayan isim veya ders girdiniz. Lütfen tekrar deneyin.\")\n",
    "         break\n",
    "    \n",
    "    \n",
    "    if authorization == \"Öğretmen\":\n",
    "        hedef_ogrenci = input (\"Notunu değiştirmek istediğiniz öğrenci adı yazın: \")\n",
    "        hedef_ders = input (\"Öğrencinin notunu değiştirmek istediğiniz dersini yazın: \")\n",
    "        guncel_not = int(input (\"Güncel notu girin: \"))\n",
    "\n",
    "        if hedef_ogrenci in sozluk and hedef_ders in sozluk[hedef_ogrenci]:\n",
    "            sozluk[hedef_ogrenci][hedef_ders] = guncel_not\n",
    "            print(f\"{hedef_ogrenci} adlı öğrencinin {hedef_ders} dersine ait notu {guncel_not} olarak güncellendi.\")\n",
    "        else: \n",
    "            print(\"Girdiğiniz bilgilere uygun öğrenci ya da ders bulunamadı\")\n",
    "        break\n"
   ]
  },
  {
   "cell_type": "code",
   "execution_count": 3,
   "id": "dd0c9bcb-6131-4fc4-9372-b8299dcd682e",
   "metadata": {},
   "outputs": [
    {
     "data": {
      "text/plain": [
       "{'Ali': {'Matematik': 75, 'Fizik': 52, 'Kimya': 67},\n",
       " 'Pelinsu': {'Matematik': 98, 'Fizik': 95, 'Kimya': 100},\n",
       " 'Mete': {'Matematik': 82, 'Fizik': 78, 'Kimya': 89}}"
      ]
     },
     "execution_count": 3,
     "metadata": {},
     "output_type": "execute_result"
    }
   ],
   "source": [
    "sozluk"
   ]
  },
  {
   "cell_type": "code",
   "execution_count": 4,
   "id": "2267a07f-a276-4da0-8f48-171901cf0f15",
   "metadata": {},
   "outputs": [
    {
     "name": "stdin",
     "output_type": "stream",
     "text": [
      "Eklemek istediğiniz öğrenci adını yazın:  Kim\n",
      "Öğrencinin Matematik dersi notunu girin:  65\n",
      "Öğrencinin Fizik dersi notunu girin:  89\n",
      "Öğrencinin Kimya dersi notunu girin:  90\n"
     ]
    },
    {
     "name": "stdout",
     "output_type": "stream",
     "text": [
      "Kim adlı öğrenci başarıyla eklendi.\n"
     ]
    }
   ],
   "source": [
    "# yeni değer ekleme, yeni öğrenci ekleme şeklinde yapılsın. Bu defa auth olmadan, öğretmen olduğu varsayıldı. \n",
    "yeni_ogrenci = input(\"Eklemek istediğiniz öğrenci adını yazın: \")\n",
    "matematik_notu = int(input(\"Öğrencinin Matematik dersi notunu girin: \"))\n",
    "fizik_notu = int(input(\"Öğrencinin Fizik dersi notunu girin: \"))\n",
    "kimya_notu = int(input(\"Öğrencinin Kimya dersi notunu girin: \"))\n",
    "\n",
    "sozluk[yeni_ogrenci] = {\"Matematik\": matematik_notu,\n",
    "                        \"Fizik\": fizik_notu,\n",
    "                        \"Kimya\": kimya_notu\n",
    "                       }\n",
    "print(f\"{yeni_ogrenci} adlı öğrenci başarıyla eklendi.\")"
   ]
  },
  {
   "cell_type": "code",
   "execution_count": 5,
   "id": "c3fcca25-7e84-44ec-911d-751915f65818",
   "metadata": {},
   "outputs": [
    {
     "data": {
      "text/plain": [
       "{'Ali': {'Matematik': 75, 'Fizik': 52, 'Kimya': 67},\n",
       " 'Pelinsu': {'Matematik': 98, 'Fizik': 95, 'Kimya': 100},\n",
       " 'Mete': {'Matematik': 82, 'Fizik': 78, 'Kimya': 89},\n",
       " 'Kim': {'Matematik': 65, 'Fizik': 89, 'Kimya': 90}}"
      ]
     },
     "execution_count": 5,
     "metadata": {},
     "output_type": "execute_result"
    }
   ],
   "source": [
    "sozluk"
   ]
  },
  {
   "cell_type": "code",
   "execution_count": null,
   "id": "1ee17ba1-973c-41c0-9f96-56a78bd86490",
   "metadata": {},
   "outputs": [],
   "source": []
  }
 ],
 "metadata": {
  "kernelspec": {
   "display_name": "Python [conda env:base] *",
   "language": "python",
   "name": "conda-base-py"
  },
  "language_info": {
   "codemirror_mode": {
    "name": "ipython",
    "version": 3
   },
   "file_extension": ".py",
   "mimetype": "text/x-python",
   "name": "python",
   "nbconvert_exporter": "python",
   "pygments_lexer": "ipython3",
   "version": "3.12.7"
  }
 },
 "nbformat": 4,
 "nbformat_minor": 5
}
