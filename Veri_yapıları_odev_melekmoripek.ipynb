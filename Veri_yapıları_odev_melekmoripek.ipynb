{
 "cells": [
  {
   "cell_type": "markdown",
   "id": "032d81b2",
   "metadata": {},
   "source": [
    "# 1\n",
    "x = 3 ----> floata çevirelim. Çevirdikten sonra beri tipinide yazdıralım.\n",
    "\n",
    "y = 4.5 -----> integere çevirelim. Çevirdikten sonra beri tipinide yazdıralım.\n",
    "\n",
    "z = \"8\" -----> integera çevirelim. Çevirdikten sonra beri tipinide yazdıralım.\n",
    "\n",
    "a = \"12\" -----> floata çevirelim. Çevirdikten sonra beri tipinide yazdıralım.\n",
    "\n",
    "b = \"46.8\" ------> integera çevirelim. Çevirdikten sonra beri tipinide yazdıralım."
   ]
  },
  {
   "cell_type": "code",
   "execution_count": 9,
   "id": "f1b735c0",
   "metadata": {},
   "outputs": [],
   "source": [
    "# x = 3 ----> floata çevirelim. Çevirdikten sonra beri tipinide yazdıralım.\n",
    "x=3\n",
    "x = float(x)"
   ]
  },
  {
   "cell_type": "code",
   "execution_count": 4,
   "id": "2d91832f-29fe-4fa1-a016-4c268c43d5e0",
   "metadata": {},
   "outputs": [
    {
     "data": {
      "text/plain": [
       "float"
      ]
     },
     "execution_count": 4,
     "metadata": {},
     "output_type": "execute_result"
    }
   ],
   "source": [
    "type (x)"
   ]
  },
  {
   "cell_type": "code",
   "execution_count": 10,
   "id": "097f5d1c-3666-476c-bea3-8915c3dde1b2",
   "metadata": {},
   "outputs": [
    {
     "name": "stdout",
     "output_type": "stream",
     "text": [
      "4\n"
     ]
    }
   ],
   "source": [
    "# y = 4.5 -----> integere çevirelim. Çevirdikten sonra beri tipinide yazdıralım.\n",
    "y = 4.5\n",
    "y = int(y)\n",
    "print(y)"
   ]
  },
  {
   "cell_type": "code",
   "execution_count": 6,
   "id": "407803db-a58a-4790-9e7a-1f6fb0b0aed7",
   "metadata": {},
   "outputs": [
    {
     "data": {
      "text/plain": [
       "int"
      ]
     },
     "execution_count": 6,
     "metadata": {},
     "output_type": "execute_result"
    }
   ],
   "source": [
    "type (y)"
   ]
  },
  {
   "cell_type": "code",
   "execution_count": 15,
   "id": "a5991f2c-7c77-46f5-be7e-85a8fb328533",
   "metadata": {},
   "outputs": [],
   "source": [
    "# z = \"8\" -----> integera çevirelim. Çevirdikten sonra beri tipinide yazdıralım.\n",
    "z = 8"
   ]
  },
  {
   "cell_type": "code",
   "execution_count": 16,
   "id": "4fce9b8c-314f-4b58-86e2-568e3d47d4e9",
   "metadata": {},
   "outputs": [
    {
     "data": {
      "text/plain": [
       "int"
      ]
     },
     "execution_count": 16,
     "metadata": {},
     "output_type": "execute_result"
    }
   ],
   "source": [
    "type (z)"
   ]
  },
  {
   "cell_type": "code",
   "execution_count": 18,
   "id": "2aa38155-6eba-47be-9aef-a36055e30b65",
   "metadata": {},
   "outputs": [
    {
     "name": "stdout",
     "output_type": "stream",
     "text": [
      "12.0\n"
     ]
    }
   ],
   "source": [
    "# a = \"12\" -----> floata çevirelim. Çevirdikten sonra beri tipinide yazdıralım.\n",
    "a = \"12\"\n",
    "a = float(a)\n",
    "print (a)"
   ]
  },
  {
   "cell_type": "code",
   "execution_count": 19,
   "id": "a2ef23d2-3ec9-4d32-8ae0-62e3edbf3051",
   "metadata": {},
   "outputs": [
    {
     "data": {
      "text/plain": [
       "float"
      ]
     },
     "execution_count": 19,
     "metadata": {},
     "output_type": "execute_result"
    }
   ],
   "source": [
    "type (a)"
   ]
  },
  {
   "cell_type": "code",
   "execution_count": 23,
   "id": "3529b186-69e0-49ab-ba3e-e99a85a4895c",
   "metadata": {},
   "outputs": [
    {
     "ename": "ValueError",
     "evalue": "invalid literal for int() with base 10: '46.8'",
     "output_type": "error",
     "traceback": [
      "\u001b[1;31m---------------------------------------------------------------------------\u001b[0m",
      "\u001b[1;31mValueError\u001b[0m                                Traceback (most recent call last)",
      "Cell \u001b[1;32mIn[23], line 3\u001b[0m\n\u001b[0;32m      1\u001b[0m \u001b[38;5;66;03m# b = \"46.8\" ------> integera çevirelim. Çevirdikten sonra beri tipinide yazdıralım.\u001b[39;00m\n\u001b[0;32m      2\u001b[0m b \u001b[38;5;241m=\u001b[39m \u001b[38;5;124m\"\u001b[39m\u001b[38;5;124m46.8\u001b[39m\u001b[38;5;124m\"\u001b[39m\n\u001b[1;32m----> 3\u001b[0m b\u001b[38;5;241m=\u001b[39m \u001b[38;5;28mint\u001b[39m(b)\n\u001b[0;32m      4\u001b[0m \u001b[38;5;28mprint\u001b[39m (b)\n",
      "\u001b[1;31mValueError\u001b[0m: invalid literal for int() with base 10: '46.8'"
     ]
    }
   ],
   "source": [
    "# b = \"46.8\" ------> integera çevirelim. Çevirdikten sonra beri tipinide yazdıralım.\n",
    "b = \"46.8\"\n",
    "b= int(b) # stringden direkt int çevirmiyor, önce float a çevrilmeli. \n",
    "print (b)\n"
   ]
  },
  {
   "cell_type": "code",
   "execution_count": 24,
   "id": "ccadf312-aeed-420e-9178-a66c22151650",
   "metadata": {},
   "outputs": [
    {
     "data": {
      "text/plain": [
       "str"
      ]
     },
     "execution_count": 24,
     "metadata": {},
     "output_type": "execute_result"
    }
   ],
   "source": [
    "type (b)"
   ]
  },
  {
   "cell_type": "code",
   "execution_count": 26,
   "id": "5e7e30de-5475-4de1-87f3-d04363315e19",
   "metadata": {},
   "outputs": [
    {
     "name": "stdout",
     "output_type": "stream",
     "text": [
      "48\n"
     ]
    }
   ],
   "source": [
    "b = \"48.6\"\n",
    "b = float(b)\n",
    "b = int (b)\n",
    "print (b)"
   ]
  },
  {
   "cell_type": "code",
   "execution_count": 27,
   "id": "1f897bb3-af06-4c96-8609-687a36bd2acd",
   "metadata": {},
   "outputs": [
    {
     "data": {
      "text/plain": [
       "int"
      ]
     },
     "execution_count": 27,
     "metadata": {},
     "output_type": "execute_result"
    }
   ],
   "source": [
    "type (b)"
   ]
  },
  {
   "cell_type": "markdown",
   "id": "95509718",
   "metadata": {},
   "source": [
    "# 2 \n",
    "İsimlerden oluşan üç değişkene yaş değerleri atanır. Belirlenen üç değişken birbiriyle karşılaştırma operatörleri ile karşılaştırılır. Bu karşılaştırmalara mantıksal operatörler de eklenir."
   ]
  },
  {
   "cell_type": "code",
   "execution_count": 35,
   "id": "50f77b4f",
   "metadata": {},
   "outputs": [],
   "source": [
    "emre = 29\n",
    "eren = 17\n",
    "duru_bebek = 0.5\n",
    "melek = 29"
   ]
  },
  {
   "cell_type": "code",
   "execution_count": 33,
   "id": "75b018bd-cdc7-4ffe-bb5c-8de4fe3134ea",
   "metadata": {},
   "outputs": [
    {
     "data": {
      "text/plain": [
       "False"
      ]
     },
     "execution_count": 33,
     "metadata": {},
     "output_type": "execute_result"
    }
   ],
   "source": [
    "emre == eren"
   ]
  },
  {
   "cell_type": "code",
   "execution_count": 36,
   "id": "e5680849-554d-465f-9fdc-ddf7f427fb16",
   "metadata": {},
   "outputs": [
    {
     "data": {
      "text/plain": [
       "True"
      ]
     },
     "execution_count": 36,
     "metadata": {},
     "output_type": "execute_result"
    }
   ],
   "source": [
    "emre == melek"
   ]
  },
  {
   "cell_type": "code",
   "execution_count": 38,
   "id": "21aee69a-e6e3-43d2-ad71-a339660568fe",
   "metadata": {},
   "outputs": [
    {
     "data": {
      "text/plain": [
       "True"
      ]
     },
     "execution_count": 38,
     "metadata": {},
     "output_type": "execute_result"
    }
   ],
   "source": [
    "melek != eren"
   ]
  },
  {
   "cell_type": "code",
   "execution_count": 39,
   "id": "63e6b8d8-28a0-4f25-b08a-474cee0039e5",
   "metadata": {},
   "outputs": [
    {
     "data": {
      "text/plain": [
       "False"
      ]
     },
     "execution_count": 39,
     "metadata": {},
     "output_type": "execute_result"
    }
   ],
   "source": [
    "melek != emre"
   ]
  },
  {
   "cell_type": "code",
   "execution_count": 37,
   "id": "86bafe4f-ce9b-45f6-a3d5-070fd042ce2e",
   "metadata": {},
   "outputs": [
    {
     "data": {
      "text/plain": [
       "True"
      ]
     },
     "execution_count": 37,
     "metadata": {},
     "output_type": "execute_result"
    }
   ],
   "source": [
    "duru_bebek < eren"
   ]
  },
  {
   "cell_type": "code",
   "execution_count": 42,
   "id": "be6df30e-0e69-45d4-8d32-9f8eea8aa4ea",
   "metadata": {},
   "outputs": [
    {
     "data": {
      "text/plain": [
       "False"
      ]
     },
     "execution_count": 42,
     "metadata": {},
     "output_type": "execute_result"
    }
   ],
   "source": [
    "eren > melek"
   ]
  },
  {
   "cell_type": "code",
   "execution_count": 40,
   "id": "055e2074-0490-4bfa-816e-bd53ee0d6ccd",
   "metadata": {},
   "outputs": [
    {
     "data": {
      "text/plain": [
       "True"
      ]
     },
     "execution_count": 40,
     "metadata": {},
     "output_type": "execute_result"
    }
   ],
   "source": [
    "melek >= eren"
   ]
  },
  {
   "cell_type": "code",
   "execution_count": 41,
   "id": "ed1fbf3b-954c-4558-bcc5-6fde9cb7a71e",
   "metadata": {},
   "outputs": [
    {
     "data": {
      "text/plain": [
       "True"
      ]
     },
     "execution_count": 41,
     "metadata": {},
     "output_type": "execute_result"
    }
   ],
   "source": [
    "eren <= emre"
   ]
  },
  {
   "cell_type": "markdown",
   "id": "a1a0eb92",
   "metadata": {},
   "source": [
    "# 3\n",
    "Kullanıcıdan iki değer girmesini istenir. Girilen değerlerin toplama, çıkarma, çarpma, bölme sonuçlarını yazdırılır."
   ]
  },
  {
   "cell_type": "code",
   "execution_count": 60,
   "id": "c361e45a",
   "metadata": {},
   "outputs": [],
   "source": [
    "a = 5\n",
    "b = 7"
   ]
  },
  {
   "cell_type": "code",
   "execution_count": 45,
   "id": "01f4fa34-aeac-43d6-aa39-de17cb885cc4",
   "metadata": {},
   "outputs": [
    {
     "name": "stdout",
     "output_type": "stream",
     "text": [
      "12\n"
     ]
    }
   ],
   "source": [
    "print (a+b)"
   ]
  },
  {
   "cell_type": "code",
   "execution_count": 46,
   "id": "066eabae-384d-414e-b9b3-3a0ceba3b4a8",
   "metadata": {},
   "outputs": [
    {
     "name": "stdout",
     "output_type": "stream",
     "text": [
      "-2\n"
     ]
    }
   ],
   "source": [
    "print (a-b)"
   ]
  },
  {
   "cell_type": "code",
   "execution_count": 48,
   "id": "c4b6476a-1adc-4994-8122-ac601981a280",
   "metadata": {},
   "outputs": [
    {
     "name": "stdout",
     "output_type": "stream",
     "text": [
      "35\n"
     ]
    }
   ],
   "source": [
    "print (a*b)"
   ]
  },
  {
   "cell_type": "code",
   "execution_count": 49,
   "id": "3e55330c-2cb0-4753-9680-e053fdc374f9",
   "metadata": {},
   "outputs": [
    {
     "name": "stdout",
     "output_type": "stream",
     "text": [
      "0.7142857142857143\n"
     ]
    }
   ],
   "source": [
    "print (a/b)"
   ]
  },
  {
   "cell_type": "code",
   "execution_count": 52,
   "id": "e1924b71-862b-48cf-ad2d-b2f1446ff5d6",
   "metadata": {},
   "outputs": [
    {
     "name": "stdout",
     "output_type": "stream",
     "text": [
      "1\n"
     ]
    }
   ],
   "source": [
    "# tekrar olması adına gösterilen diğer işlemler de eklendi. Tam bölme:\n",
    "print (b//a)"
   ]
  },
  {
   "cell_type": "code",
   "execution_count": 57,
   "id": "61fc3bc6-3045-47ce-a991-5d5a102c1763",
   "metadata": {},
   "outputs": [
    {
     "name": "stdout",
     "output_type": "stream",
     "text": [
      "3\n"
     ]
    }
   ],
   "source": [
    "# mod alma, sayının diğer sayıya bölümünden kalanı verecektir ve % kullanılır.\n",
    "\n",
    "x = 21\n",
    "y = 6\n",
    "print (x%y)"
   ]
  },
  {
   "cell_type": "code",
   "execution_count": 58,
   "id": "88b7809e-3019-4675-b256-45f7292ed55d",
   "metadata": {},
   "outputs": [
    {
     "name": "stdout",
     "output_type": "stream",
     "text": [
      "64\n"
     ]
    }
   ],
   "source": [
    "# üs alma ** kullanarak yapılır\n",
    "p = 4\n",
    "q = 3\n",
    "\n",
    "print (p**q)"
   ]
  },
  {
   "cell_type": "code",
   "execution_count": 59,
   "id": "2551f961-e9bf-480d-a6f4-9ac5250942af",
   "metadata": {},
   "outputs": [
    {
     "name": "stdout",
     "output_type": "stream",
     "text": [
      "25\n"
     ]
    }
   ],
   "source": [
    "a = 5\n",
    "print (5**2)"
   ]
  },
  {
   "cell_type": "markdown",
   "id": "060b0bea",
   "metadata": {},
   "source": [
    "# 4\n",
    "Kullanıcıdan isim, yaş, şehir ve meslek bilgilerini istenir ve cevaplarını yazdırılır."
   ]
  },
  {
   "cell_type": "code",
   "execution_count": 62,
   "id": "6f5dea59",
   "metadata": {},
   "outputs": [
    {
     "name": "stdin",
     "output_type": "stream",
     "text": [
      "İsminizi yazın:  melek\n"
     ]
    },
    {
     "name": "stdout",
     "output_type": "stream",
     "text": [
      "melek\n"
     ]
    },
    {
     "name": "stdin",
     "output_type": "stream",
     "text": [
      "Yaşınızı girin:  29\n"
     ]
    },
    {
     "name": "stdout",
     "output_type": "stream",
     "text": [
      "29\n"
     ]
    },
    {
     "name": "stdin",
     "output_type": "stream",
     "text": [
      "Yaşadığınız şehri yazın:  eskişehir\n"
     ]
    },
    {
     "name": "stdout",
     "output_type": "stream",
     "text": [
      "eskişehir\n"
     ]
    },
    {
     "name": "stdin",
     "output_type": "stream",
     "text": [
      "Mesleğinizi yazın:  iş analisti\n"
     ]
    },
    {
     "name": "stdout",
     "output_type": "stream",
     "text": [
      "iş analisti\n"
     ]
    }
   ],
   "source": [
    "isim = input(\"İsminizi yazın: \")\n",
    "print(isim)\n",
    "yas = input(\"Yaşınızı girin: \")\n",
    "print(yas)\n",
    "sehir = input(\"Yaşadığınız şehri yazın: \")\n",
    "print (sehir)\n",
    "meslek = input(\"Mesleğinizi yazın: \")\n",
    "print(meslek) # sırayla soru sorar ve print eder"
   ]
  },
  {
   "cell_type": "code",
   "execution_count": 65,
   "id": "af59a62d-dd61-42f1-b35d-a8d0d7df572f",
   "metadata": {},
   "outputs": [
    {
     "name": "stdin",
     "output_type": "stream",
     "text": [
      "İsminizi yazın:  melek\n",
      "Yaşınızı girin:  29\n",
      "Yaşadığınız şehri yazın:  eskişehir\n",
      "Mesleğinizi yazın:  iş analisti\n"
     ]
    },
    {
     "name": "stdout",
     "output_type": "stream",
     "text": [
      "*************\n",
      "melek\n",
      "29\n",
      "eskişehir\n",
      "iş analisti\n"
     ]
    }
   ],
   "source": [
    "isim = input(\"İsminizi yazın: \")\n",
    "yas = input(\"Yaşınızı girin: \")\n",
    "sehir = input(\"Yaşadığınız şehri yazın: \")\n",
    "meslek = input(\"Mesleğinizi yazın: \")\n",
    "print (\"*************\")\n",
    "print(isim)\n",
    "print(yas)\n",
    "print (sehir)\n",
    "print(meslek)# sırayla soru sorar ve en son print eder"
   ]
  },
  {
   "cell_type": "markdown",
   "id": "55e1a34e",
   "metadata": {},
   "source": [
    "# 5\n",
    "\"Hi-Kod Veri Bilimi Atölyesi\" ifadesini bir değişkene tanımlanır.\n",
    "\n",
    "\n",
    " 1. İfadedeki her bir kelimeyi (\"Hi-Kod\", \"Veri\", \"Bilimi\", \"Atölyesi\") değişken içinden seçilir. \n",
    " 2. İfadeyi hepsini büyük harf olacak hale çevrilir. (\"HI-KOD VERİ BİLİMİ ATÖLYESİ\") \n",
    " 3. İfadeyi hepsini büyük harf olacak hale çevrilir.(\"hi-kod veri bilimi atölyesi\") \n",
    "\n",
    "\"0123456789\" ifadesindeki yalnızca çift sayıları ve yalnızca tek sayıları seçilir. (\"02468\", \"13579\")"
   ]
  },
  {
   "cell_type": "code",
   "execution_count": 66,
   "id": "0fc1bc40",
   "metadata": {},
   "outputs": [],
   "source": [
    "ifade = \"Hi-Kod Veri Bilimi Atölyesi\""
   ]
  },
  {
   "cell_type": "code",
   "execution_count": 68,
   "id": "8393582c-20f2-4cfe-85df-4da3adc5bf56",
   "metadata": {},
   "outputs": [
    {
     "name": "stdout",
     "output_type": "stream",
     "text": [
      "['Hi-Kod', 'Veri', 'Bilimi', 'Atölyesi']\n"
     ]
    }
   ],
   "source": [
    "#  1. İfadedeki her bir kelimeyi (\"Hi-Kod\", \"Veri\", \"Bilimi\", \"Atölyesi\") değişken içinden seçilir. \n",
    "kelime = ifade.split()\n",
    "print (kelime)  "
   ]
  },
  {
   "cell_type": "code",
   "execution_count": 72,
   "id": "dcd6bafd-586d-475f-bba0-945142874ac8",
   "metadata": {},
   "outputs": [
    {
     "name": "stdout",
     "output_type": "stream",
     "text": [
      "HI-KOD VERI BILIMI ATÖLYESI\n"
     ]
    }
   ],
   "source": [
    "#  2. İfadeyi hepsini büyük harf olacak hale çevrilir. (\"HI-KOD VERİ BİLİMİ ATÖLYESİ\") \n",
    "\n",
    "capital = ifade.upper()\n",
    "print (capital)"
   ]
  },
  {
   "cell_type": "code",
   "execution_count": 75,
   "id": "42d91fdf-d2a7-4325-a6c2-4bc4cd3a27e9",
   "metadata": {},
   "outputs": [
    {
     "name": "stdout",
     "output_type": "stream",
     "text": [
      "hi-kod veri bilimi atölyesi\n"
     ]
    }
   ],
   "source": [
    "# 3. İfadeyi hepsini büyük harf olacak hale çevrilir.(\"hi-kod veri bilimi atölyesi\") >>> küçük denilmek istendi varsayıyorum\n",
    "\n",
    "lower_case = ifade.lower()\n",
    "print (lower_case)"
   ]
  },
  {
   "cell_type": "code",
   "execution_count": 76,
   "id": "55836a41-4bad-4cd8-ac3b-47684e5e14b0",
   "metadata": {},
   "outputs": [
    {
     "name": "stdout",
     "output_type": "stream",
     "text": [
      "1,3,5,7,9\n"
     ]
    }
   ],
   "source": [
    "#\"0123456789\" ifadesindeki yalnızca çift sayıları ve yalnızca tek sayıları seçilir. (\"02468\", \"13579\")\n",
    "\n",
    "sayi= \"0123456789\"\n",
    "tekler = \"1,3,5,7,9\"\n",
    "ciftler = \"0,2,4,6,8\"\n",
    "print (tekler)"
   ]
  },
  {
   "cell_type": "code",
   "execution_count": 77,
   "id": "c93a00e9-d9f4-41cd-8231-320e5e2c7841",
   "metadata": {},
   "outputs": [
    {
     "name": "stdout",
     "output_type": "stream",
     "text": [
      "0,2,4,6,8\n"
     ]
    }
   ],
   "source": [
    "print (ciftler)"
   ]
  }
 ],
 "metadata": {
  "kernelspec": {
   "display_name": "Python [conda env:base] *",
   "language": "python",
   "name": "conda-base-py"
  },
  "language_info": {
   "codemirror_mode": {
    "name": "ipython",
    "version": 3
   },
   "file_extension": ".py",
   "mimetype": "text/x-python",
   "name": "python",
   "nbconvert_exporter": "python",
   "pygments_lexer": "ipython3",
   "version": "3.12.7"
  }
 },
 "nbformat": 4,
 "nbformat_minor": 5
}
