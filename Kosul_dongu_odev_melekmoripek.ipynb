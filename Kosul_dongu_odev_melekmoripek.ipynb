{
 "cells": [
  {
   "cell_type": "markdown",
   "id": "409f0f4a",
   "metadata": {},
   "source": [
    "**Ödev-1:** Kullanıcıdan maaş bilgisini istenir ve bu bilgiye göre maaşından ne kadar vergi kesileceğini hesaplanır. Kullanıcının geliri;\n",
    "\n",
    "1. 10000 ve altındaysa maaşından %5 kesinti olur.\n",
    "2. 25000 ve altındaysa maaşından %10 kesinti olur.\n",
    "3. 45000 ve altındaysa maaşından %25 kesinti olur.\n",
    "4. Diğer koşullarda %30 kesinti olur.\n",
    "\n",
    "Bu durumlara göre kullanıcının yeni maaşı yazdırılır."
   ]
  },
  {
   "cell_type": "code",
   "execution_count": 14,
   "id": "5246e510",
   "metadata": {},
   "outputs": [
    {
     "name": "stdin",
     "output_type": "stream",
     "text": [
      "Lütfen maaş miktarınızı girin:  -40000\n"
     ]
    },
    {
     "name": "stdout",
     "output_type": "stream",
     "text": [
      "Maaşınızdan yapılan kesinti:  -2000.0 yeni maaşınız:  -38000.0\n"
     ]
    }
   ],
   "source": [
    "maas = int(input(\"Lütfen maaş miktarınızı girin: \"))\n",
    "if maas <= 10000:\n",
    "    kesinti = maas * 0.05\n",
    "    yeni_maas = maas - kesinti\n",
    "    print (\"Maaşınızdan yapılan kesinti: \", kesinti, \"yeni maaşınız: \", yeni_maas)\n",
    "elif maas <= 25000:\n",
    "    kesinti = maas * 0.1\n",
    "    yeni_maas = maas - kesinti\n",
    "    print (\"Maaşınızdan yapılan kesinti: \", kesinti, \"yeni maaşınız: \", yeni_maas)\n",
    "elif maas <= 45000:\n",
    "    kesinti = maas * 0.25\n",
    "    yeni_maas = maas - kesinti\n",
    "    print (\"Maaşınızdan yapılan kesinti: \", kesinti, \"yeni maaşınız: \", yeni_maas)\n",
    "else: \n",
    "    kesinti = maas * 0.3\n",
    "    yeni_maas = maas - kesinti\n",
    "    print (\"Maaşınızdan yapılan kesinti: \", kesinti, \"yeni maaşınız: \", yeni_maas)"
   ]
  },
  {
   "cell_type": "markdown",
   "id": "f5fe8798",
   "metadata": {},
   "source": [
    "**Ödev-2:** Kullanıcıdan kullanıcı adı ve şifre oluşturmasını istenir. Şifrenin uzunluğu altı haneye ulaşmışsa hesabınız oluşturuldu mesajı alınır, altı haneden azsa altı haneli şifre oluşturması gerektiğinin mesajı alınır. *(Sadece koşul kullanılması yeterli.)*"
   ]
  },
  {
   "cell_type": "code",
   "execution_count": 17,
   "id": "6acffe57",
   "metadata": {},
   "outputs": [
    {
     "name": "stdin",
     "output_type": "stream",
     "text": [
      "Lütfen yeni şifrenizi belirleyin:  123\n"
     ]
    },
    {
     "name": "stdout",
     "output_type": "stream",
     "text": [
      "Lütfen en az 6 haneli bir şifre belirleyin.\n"
     ]
    }
   ],
   "source": [
    "password = str(input(\"Lütfen yeni şifrenizi belirleyin: \"))\n",
    "\n",
    "if len(password) >= 6:\n",
    "    print(\"Hesabınız başarıyla oluşturuldu.\")\n",
    "elif len(password) < 6:\n",
    "    print(\"Lütfen en az 6 haneli bir şifre belirleyin.\")\n"
   ]
  },
  {
   "cell_type": "markdown",
   "id": "aaccf11a",
   "metadata": {},
   "source": [
    "**Ödev-3:** Bir önceki örnek geliştirilir.\n",
    "\n",
    "1. Kullanıcı girdiği şifre 5 ve 10 hane arasında olmak zorunda.\n",
    "2. Eğer bu koşula uyuyorsa \"Hesabınız oluşturuldu.\" mesajı alır.\n",
    "3. Koşulu sağlamıyorsa \"Lütfen girdiniz şifre 5 haneden az 10 haneden fazla olmasın!\" uyarısı alır.\n",
    "4. Bunu oluştururken kullanıcı istediğimiz şartlarda şifre oluşturana kadar sormaya devam eder"
   ]
  },
  {
   "cell_type": "code",
   "execution_count": 24,
   "id": "01224a2b-9f7e-45dd-99a3-05aac8a7c1f5",
   "metadata": {},
   "outputs": [
    {
     "name": "stdin",
     "output_type": "stream",
     "text": [
      "Lütfen yeni şifrenizi belirleyin:  1232347847878347834787834\n"
     ]
    },
    {
     "name": "stdout",
     "output_type": "stream",
     "text": [
      "Lütfen en az 5, en fazla 10 haneli bir şifre belirleyin.\n"
     ]
    },
    {
     "name": "stdin",
     "output_type": "stream",
     "text": [
      "Lütfen yeni şifrenizi belirleyin:  123\n"
     ]
    },
    {
     "name": "stdout",
     "output_type": "stream",
     "text": [
      "Lütfen en az 5, en fazla 10 haneli bir şifre belirleyin.\n"
     ]
    },
    {
     "name": "stdin",
     "output_type": "stream",
     "text": [
      "Lütfen yeni şifrenizi belirleyin:  12345\n"
     ]
    },
    {
     "name": "stdout",
     "output_type": "stream",
     "text": [
      "Hesabınız başarıyla oluşturuldu.\n"
     ]
    }
   ],
   "source": [
    "while True: #yanlış şifre girerse yeniden şifre istemek için sonsuz döngüye sokar. \n",
    "    password = str(input(\"Lütfen yeni şifrenizi belirleyin: \"))\n",
    "    \n",
    "    if 5 <= len(password) <= 10:\n",
    "        print(\"Hesabınız başarıyla oluşturuldu.\")\n",
    "        break\n",
    "    else:\n",
    "        print(\"Lütfen en az 5, en fazla 10 haneli bir şifre belirleyin.\")\n",
    "\n"
   ]
  },
  {
   "cell_type": "markdown",
   "id": "8ba81863",
   "metadata": {},
   "source": [
    "**Ödev-4:** Kullanıcıdan isim ve şifre isteyeceğiz ve şifre girişi için üç hak verilir.\n",
    "\n",
    "1. Eğer önceden tanımlı şifre ile kullanıcıdan gelen şifre aynıysa \"Giriş yapıldı.\" yazar.\n",
    "2. Şifre girişi yanlışsa \"Yanlış şifre girildi!\" uyarısı verilsin ve üç yanlış denemede program biter.\n",
    "3. Tercihe göre kalan hak bilgisi verilir."
   ]
  },
  {
   "cell_type": "code",
   "execution_count": 38,
   "id": "8f45ea0c",
   "metadata": {},
   "outputs": [
    {
     "name": "stdin",
     "output_type": "stream",
     "text": [
      "Kullanıcı adınızı girin:  hsgsdghghsd\n",
      "Parolanızı girin:  yghdghsdghghsd\n"
     ]
    },
    {
     "name": "stdout",
     "output_type": "stream",
     "text": [
      "Kullanıcı adı ya da parolanız yanlış.\n",
      "Kalan deneme hakkınız: 2\n"
     ]
    },
    {
     "name": "stdin",
     "output_type": "stream",
     "text": [
      "Kullanıcı adınızı girin:  dgghsdghd\n",
      "Parolanızı girin:  dhjhjdhjdfhj\n"
     ]
    },
    {
     "name": "stdout",
     "output_type": "stream",
     "text": [
      "Kullanıcı adı ya da parolanız yanlış.\n",
      "Kalan deneme hakkınız: 1\n"
     ]
    },
    {
     "name": "stdin",
     "output_type": "stream",
     "text": [
      "Kullanıcı adınızı girin:  jdfjdjjdh\n",
      "Parolanızı girin:  admin123\n"
     ]
    },
    {
     "name": "stdout",
     "output_type": "stream",
     "text": [
      "Kullanıcı adı ya da parolanız yanlış.\n",
      "3 yanlış deneme yaptığınız için hesabınız bloke edildi.\n"
     ]
    }
   ],
   "source": [
    "username = \"admin\"\n",
    "password = \"admin123\"\n",
    "deneme_hakki = 3\n",
    "\n",
    "while deneme_hakki > 0: \n",
    "    username1 = input(\"Kullanıcı adınızı girin: \")\n",
    "    password1 = input(\"Parolanızı girin: \")\n",
    "    \n",
    "    if username1 == username:\n",
    "        if password1 == password:\n",
    "            print(\"Başarıyla giriş yaptınız.\")\n",
    "            break\n",
    "    else: \n",
    "        deneme_hakki -= 1\n",
    "        print (\"Kullanıcı adı ya da parolanız yanlış.\") #sadece şifreyi girdiğinde değil, kullanıcı adı ya da şifreyi girdiğinde hata mesajı döner. \n",
    "        if deneme_hakki > 0:\n",
    "            print(\"Kalan deneme hakkınız:\", deneme_hakki)\n",
    "        else: \n",
    "            print(\"3 yanlış deneme yaptığınız için hesabınız bloke edildi.\") "
   ]
  },
  {
   "cell_type": "code",
   "execution_count": null,
   "id": "b5c3a7bd-ebdf-4bdf-8d8b-4e78333564bc",
   "metadata": {},
   "outputs": [],
   "source": []
  }
 ],
 "metadata": {
  "kernelspec": {
   "display_name": "Python [conda env:base] *",
   "language": "python",
   "name": "conda-base-py"
  },
  "language_info": {
   "codemirror_mode": {
    "name": "ipython",
    "version": 3
   },
   "file_extension": ".py",
   "mimetype": "text/x-python",
   "name": "python",
   "nbconvert_exporter": "python",
   "pygments_lexer": "ipython3",
   "version": "3.12.7"
  }
 },
 "nbformat": 4,
 "nbformat_minor": 5
}
