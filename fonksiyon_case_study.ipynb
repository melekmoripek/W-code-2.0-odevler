{
 "cells": [
  {
   "cell_type": "markdown",
   "metadata": {},
   "source": [
    "#### Ödev 1\n",
    "Kullanıcıdan pi değeri ve yarıçap bilgisi alarak dairenin alanını hesaplayan bir fonksiyon oluşturulur."
   ]
  },
  {
   "cell_type": "code",
   "execution_count": 6,
   "metadata": {
    "vscode": {
     "languageId": "plaintext"
    }
   },
   "outputs": [
    {
     "name": "stdin",
     "output_type": "stream",
     "text": [
      "Pi değerini girin:  2\n",
      "Yarıçapı girin:  3\n"
     ]
    },
    {
     "name": "stdout",
     "output_type": "stream",
     "text": [
      "Dairenin alanı:  18.0\n"
     ]
    }
   ],
   "source": [
    "def daire_alani_hesaplama ():\n",
    "    \n",
    "    pi = float(input(\"Pi değerini girin: \"))\n",
    "    yarıcap = float(input(\"Yarıçapı girin: \"))\n",
    "    alan = pi * yarıcap **2\n",
    "    print (\"Dairenin alanı: \", alan)\n",
    "    \n",
    "daire_alani_hesaplama ()"
   ]
  },
  {
   "cell_type": "markdown",
   "metadata": {},
   "source": [
    "#### Ödev 2\n",
    "\n",
    "Faktöriyel adında fonksiyon oluşturulur. Döngü kullanarak parametre olarak girilen sayının faktöriyeli hesaplanır. Format metodunu kullanılarak ekrana yazdırılır."
   ]
  },
  {
   "cell_type": "code",
   "execution_count": 10,
   "metadata": {
    "vscode": {
     "languageId": "plaintext"
    }
   },
   "outputs": [
    {
     "name": "stdout",
     "output_type": "stream",
     "text": [
      "Sayının faktoriyeli: 120\n"
     ]
    }
   ],
   "source": [
    "def faktoriyel_hesapla (sayi):\n",
    "    faktoriyel = 1\n",
    "    for n in range (1, sayi+1):\n",
    "        faktoriyel *= n\n",
    "    print (\"Sayının faktoriyeli: {}\".format(faktoriyel) )\n",
    "\n",
    "faktoriyel_hesapla (5)"
   ]
  },
  {
   "cell_type": "markdown",
   "metadata": {},
   "source": [
    "#### Ödev 3\n",
    "Kişinin fonksiyona doğum yılını vererek kaç yaşında olduğunu hesaplayan bir fonksiyon oluşturun. "
   ]
  },
  {
   "cell_type": "code",
   "execution_count": 14,
   "metadata": {
    "vscode": {
     "languageId": "plaintext"
    }
   },
   "outputs": [
    {
     "name": "stdin",
     "output_type": "stream",
     "text": [
      "Lütfen doğum yılınızı girin:  1995\n"
     ]
    },
    {
     "name": "stdout",
     "output_type": "stream",
     "text": [
      "Doğum yılınızı 1995 girdiniz, yaşınız 30 olarak hesaplandı.\n"
     ]
    }
   ],
   "source": [
    "def yas_hesapla ():\n",
    "    dogum_yili = int(input(\"Lütfen doğum yılınızı girin: \"))\n",
    "    yas = 2025 - dogum_yili\n",
    "    print (f\"Doğum yılınızı {dogum_yili} girdiniz, yaşınız {yas} olarak hesaplandı.\")\n",
    "yas_hesapla()\n",
    "    \n",
    "    "
   ]
  },
  {
   "cell_type": "markdown",
   "metadata": {},
   "source": [
    "#### Ödev 4\n",
    "\n",
    "Doğum yılı ve isim bilgisi verilen fonksiyon kişinin emekli olup olmadığını söylesin.(Kişi 65 yaşında ise emekli olur.) Burada yaş hesabını yukarıdaki örnekteki fonksiyonu kullanarak yapsın.(Yani fonksiyon içinde fonksiyon kullanmanızı istiyorum :)) Kişi 65 yaşında ya da daha fazlaysa \"Emekli oldunuz\" yanıtını, 65 yaşından küçükse emekliliğine kaç yıl kaldığını da hesaplayarak \"(isim) emekliliğine (yıl) kaldı.\" yanıtını versin."
   ]
  },
  {
   "cell_type": "code",
   "execution_count": 17,
   "metadata": {
    "vscode": {
     "languageId": "plaintext"
    }
   },
   "outputs": [
    {
     "name": "stdin",
     "output_type": "stream",
     "text": [
      "Lütfen adınızı yazın: Emre\n",
      "Lütfen doğum yılınızı girin:  1995\n"
     ]
    },
    {
     "name": "stdout",
     "output_type": "stream",
     "text": [
      "Doğum yılınızı 1995 girdiniz, yaşınız 30 olarak hesaplandı.\n",
      "Sevgili Emre, emekliliğinize 35 yıl kaldı. Dayanın!\n"
     ]
    }
   ],
   "source": [
    "def yas_hesapla ():\n",
    "    isim = input(\"Lütfen adınızı yazın:\")\n",
    "    dogum_yili = int(input(\"Lütfen doğum yılınızı girin: \"))\n",
    "    yas = 2025 - dogum_yili\n",
    "    kac_yıl_kaldı = 65 - yas\n",
    "    print (f\"Doğum yılınızı {dogum_yili} girdiniz, yaşınız {yas} olarak hesaplandı.\")\n",
    "    if yas >= 65:\n",
    "        print (\"Tebrikler, emekli oldunuz!\")\n",
    "    else:\n",
    "        print (f\"Sevgili {isim}, emekliliğinize {kac_yıl_kaldı} yıl kaldı. Dayanın!\")\n",
    "        \n",
    "yas_hesapla()\n",
    "    \n",
    "    "
   ]
  }
 ],
 "metadata": {
  "kernelspec": {
   "display_name": "Python [conda env:base] *",
   "language": "python",
   "name": "conda-base-py"
  },
  "language_info": {
   "codemirror_mode": {
    "name": "ipython",
    "version": 3
   },
   "file_extension": ".py",
   "mimetype": "text/x-python",
   "name": "python",
   "nbconvert_exporter": "python",
   "pygments_lexer": "ipython3",
   "version": "3.12.7"
  }
 },
 "nbformat": 4,
 "nbformat_minor": 4
}
