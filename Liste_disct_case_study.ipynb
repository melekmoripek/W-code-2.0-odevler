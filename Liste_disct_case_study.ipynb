{
 "cells": [
  {
   "cell_type": "markdown",
   "metadata": {
    "id": "tE9ZjH5lQn2-"
   },
   "source": [
    "### Ödev 1\n",
    "\n",
    "liste = [\"Python\",True,9,\"3\",8.4,\"Hi-Kod\",\"False\",4.7]\n",
    "\n",
    "1. Aşağıdaki işlemleri indexing ve slicing kullanarak liste üzerinde uygulayın.\n",
    "\n",
    "   - \"3\" değerine ulaşmak için indexleme yapın.\n",
    "   - \"Hi-Kod\" değerine ulaşmak için indexleme yapın.\n",
    "   - 4.7 değerine ulaşmak için indexleme yapın.\n",
    "   - 9,\"3\",8.4,\"Hi-Kod\" değerlerine ulaşmak için slicing yapın.\n",
    "   - 8.4,\"Hi-Kod\",\"False\",4.7 değerlerine ulaşmak için slicing yapın."
   ]
  },
  {
   "cell_type": "code",
   "execution_count": 1,
   "metadata": {
    "id": "AhOkYXjIQn3E"
   },
   "outputs": [
    {
     "data": {
      "text/plain": [
       "['Python', True, 9, '3', 8.4, 'Hi-Kod', 'False', 4.7]"
      ]
     },
     "execution_count": 1,
     "metadata": {},
     "output_type": "execute_result"
    }
   ],
   "source": [
    "liste = [\"Python\",True,9,\"3\",8.4,\"Hi-Kod\",\"False\",4.7]\n",
    "liste"
   ]
  },
  {
   "cell_type": "code",
   "execution_count": 2,
   "metadata": {},
   "outputs": [
    {
     "data": {
      "text/plain": [
       "'3'"
      ]
     },
     "execution_count": 2,
     "metadata": {},
     "output_type": "execute_result"
    }
   ],
   "source": [
    "# \"3\" değerine ulaşmak için indexleme yapın.\n",
    "liste [3]"
   ]
  },
  {
   "cell_type": "code",
   "execution_count": 3,
   "metadata": {},
   "outputs": [
    {
     "data": {
      "text/plain": [
       "'Hi-Kod'"
      ]
     },
     "execution_count": 3,
     "metadata": {},
     "output_type": "execute_result"
    }
   ],
   "source": [
    "# \"Hi-Kod\" değerine ulaşmak için indexleme yapın.\n",
    "liste [5]"
   ]
  },
  {
   "cell_type": "code",
   "execution_count": 4,
   "metadata": {},
   "outputs": [
    {
     "data": {
      "text/plain": [
       "4.7"
      ]
     },
     "execution_count": 4,
     "metadata": {},
     "output_type": "execute_result"
    }
   ],
   "source": [
    "# 4.7 değerine ulaşmak için indexleme yapın.\n",
    "liste [-1]"
   ]
  },
  {
   "cell_type": "code",
   "execution_count": 5,
   "metadata": {},
   "outputs": [
    {
     "data": {
      "text/plain": [
       "4.7"
      ]
     },
     "execution_count": 5,
     "metadata": {},
     "output_type": "execute_result"
    }
   ],
   "source": [
    "# 4.7 değerine ulaşmak için indexleme yapın.\n",
    "liste [7]"
   ]
  },
  {
   "cell_type": "code",
   "execution_count": 6,
   "metadata": {},
   "outputs": [
    {
     "data": {
      "text/plain": [
       "[9, '3', 8.4, 'Hi-Kod']"
      ]
     },
     "execution_count": 6,
     "metadata": {},
     "output_type": "execute_result"
    }
   ],
   "source": [
    "# 9,\"3\",8.4,\"Hi-Kod\" değerlerine ulaşmak için slicing yapın.\n",
    "liste [2:6]"
   ]
  },
  {
   "cell_type": "code",
   "execution_count": null,
   "metadata": {},
   "outputs": [],
   "source": [
    "# 8.4,\"Hi-Kod\",\"False\",4.7 değerlerine ulaşmak için slicing yapın."
   ]
  },
  {
   "cell_type": "code",
   "execution_count": 7,
   "metadata": {},
   "outputs": [
    {
     "data": {
      "text/plain": [
       "[8.4, 'Hi-Kod', 'False', 4.7]"
      ]
     },
     "execution_count": 7,
     "metadata": {},
     "output_type": "execute_result"
    }
   ],
   "source": [
    "liste [4:8]"
   ]
  },
  {
   "cell_type": "markdown",
   "metadata": {
    "id": "PU_vatZVQn3E"
   },
   "source": [
    "### Ödev 2\n",
    "\n",
    "Verilen listede bulunan string veri tipindeki öğeleri yeni_liste isimli listeye eklenir.\n",
    "\n",
    "liste = [\"Python\",True,9,\"3\",8.4,\"Hi-Kod\",\"False\",4.7]"
   ]
  },
  {
   "cell_type": "code",
   "execution_count": 8,
   "metadata": {
    "id": "k036-a4qQn3F"
   },
   "outputs": [
    {
     "data": {
      "text/plain": [
       "['Python', True, 9, '3', 8.4, 'Hi-Kod', 'False', 4.7]"
      ]
     },
     "execution_count": 8,
     "metadata": {},
     "output_type": "execute_result"
    }
   ],
   "source": [
    "liste = [\"Python\",True,9,\"3\",8.4,\"Hi-Kod\",\"False\",4.7]\n",
    "liste"
   ]
  },
  {
   "cell_type": "code",
   "execution_count": 9,
   "metadata": {},
   "outputs": [
    {
     "name": "stdout",
     "output_type": "stream",
     "text": [
      "['Python', '3', 'Hi-Kod', 'False']\n"
     ]
    }
   ],
   "source": [
    "yeni_liste = []\n",
    "\n",
    "for string_oge in liste:\n",
    "    if type(string_oge) == str:\n",
    "        yeni_liste.append(string_oge)\n",
    "print (yeni_liste)\n",
    "        "
   ]
  },
  {
   "cell_type": "markdown",
   "metadata": {
    "id": "LKspMidRQn3G"
   },
   "source": [
    "### Ödev 3\n",
    "\n",
    "Enumerate methodunu araştırın ve aşağıdaki örneği enumerate methodu ile yapın."
   ]
  },
  {
   "cell_type": "code",
   "execution_count": 10,
   "metadata": {
    "id": "ZmwK7TWhQn3H"
   },
   "outputs": [
    {
     "data": {
      "text/plain": [
       "['Elma', 'Muz', 'Çilek', 'Portakal', 'Karpuz', 'Kivi', 'Üzüm', 'Ananas']"
      ]
     },
     "execution_count": 10,
     "metadata": {},
     "output_type": "execute_result"
    }
   ],
   "source": [
    "meyveler = [\"Elma\", \"Muz\", \"Çilek\", \"Portakal\", \"Karpuz\", \"Kivi\", \"Üzüm\", \"Ananas\"]\n",
    "meyveler\n"
   ]
  },
  {
   "cell_type": "code",
   "execution_count": 11,
   "metadata": {
    "id": "uKwshjmAQn3G"
   },
   "outputs": [
    {
     "name": "stdout",
     "output_type": "stream",
     "text": [
      "0. indexte bulunan meyve: Elma\n",
      "1. indexte bulunan meyve: Muz\n",
      "2. indexte bulunan meyve: Çilek\n",
      "3. indexte bulunan meyve: Portakal\n",
      "4. indexte bulunan meyve: Karpuz\n",
      "5. indexte bulunan meyve: Kivi\n",
      "6. indexte bulunan meyve: Üzüm\n",
      "7. indexte bulunan meyve: Ananas\n"
     ]
    }
   ],
   "source": [
    "for index in range(len(meyveler)):\n",
    "\n",
    "    print(\"{}. indexte bulunan meyve: {}\".format(index,meyveler[index]))"
   ]
  },
  {
   "cell_type": "code",
   "execution_count": 25,
   "metadata": {},
   "outputs": [
    {
     "name": "stdout",
     "output_type": "stream",
     "text": [
      "0. indexte bulunan meyve: Elma\n",
      "1. indexte bulunan meyve: Muz\n",
      "2. indexte bulunan meyve: Çilek\n",
      "3. indexte bulunan meyve: Portakal\n",
      "4. indexte bulunan meyve: Karpuz\n",
      "5. indexte bulunan meyve: Kivi\n",
      "6. indexte bulunan meyve: Üzüm\n",
      "7. indexte bulunan meyve: Ananas\n"
     ]
    }
   ],
   "source": [
    "# örneğin enumate metodu ile yapılmış hali: \n",
    "for index, meyve in enumerate(meyveler):  \n",
    "    print(f\"{index}. indexte bulunan meyve: {meyve}\")"
   ]
  },
  {
   "cell_type": "code",
   "execution_count": 23,
   "metadata": {},
   "outputs": [
    {
     "name": "stdout",
     "output_type": "stream",
     "text": [
      "(0, 'Elma') <class 'tuple'>\n",
      "(1, 'Muz') <class 'tuple'>\n",
      "(2, 'Çilek') <class 'tuple'>\n",
      "(3, 'Portakal') <class 'tuple'>\n",
      "(4, 'Karpuz') <class 'tuple'>\n",
      "(5, 'Kivi') <class 'tuple'>\n",
      "(6, 'Üzüm') <class 'tuple'>\n",
      "(7, 'Ananas') <class 'tuple'>\n"
     ]
    }
   ],
   "source": [
    "# enumerate() metodu tuple olarak önce index, sonra elemanı döner. \n",
    "for meyve in enumerate(meyveler):\n",
    "    print(meyve, type(meyve))"
   ]
  },
  {
   "cell_type": "markdown",
   "metadata": {
    "id": "M_DfcqxXQubL"
   },
   "source": [
    "## Sozluk"
   ]
  },
  {
   "cell_type": "markdown",
   "metadata": {
    "id": "ZMXFFucEQxxD"
   },
   "source": [
    "1. Bir sözlük oluşturulur ve bu sözlükte öğrencilerin isimleri ve Matematik, Fizik, Kimya notları tutulur. Kullanıcıdan isim ve ders ismi(Matematik, Fizik, Kimya) istenir ve bu bilgilere göre çıktı verilir."
   ]
  },
  {
   "cell_type": "markdown",
   "metadata": {
    "id": "8NJYTepzQ13V"
   },
   "source": [
    "2. Sözlük üzerinde değerleri değiştirme, yeni değer ekleme, kullanıcıya ulaşmak istediği bilgileri sorma gibi uygulamalar yapın."
   ]
  },
  {
   "cell_type": "code",
   "execution_count": 34,
   "metadata": {
    "id": "Sl7EK7FDQsW1"
   },
   "outputs": [
    {
     "name": "stdin",
     "output_type": "stream",
     "text": [
      "Lütfen isminizi girin:  Pelinsu\n",
      "Lütfen notunuzu öğrenmek istediğiniz dersin adını girin:  Fizik\n"
     ]
    },
    {
     "name": "stdout",
     "output_type": "stream",
     "text": [
      "Sevgili Pelinsu, Fizik dersinden aldığınız not: 92\n"
     ]
    }
   ],
   "source": [
    "# Bir sözlük oluşturulur ve bu sözlükte öğrencilerin isimleri ve Matematik, Fizik, Kimya notları tutulur. Kullanıcıdan isim ve ders ismi(Matematik, Fizik, Kimya) istenir ve bu bilgilere göre çıktı verilir.\n",
    "sozluk = {\"Ali\": {\"Matematik\" : 75, \"Fizik\": 52, \"Kimya\": 67},\n",
    "         \"Pelinsu\": {\"Matematik\": 98, \"Fizik\": 92, \"Kimya\": 100},\n",
    "         \"Mete\": {\"Matematik\": 82, \"Fizik\": 78, \"Kimya\": 89}\n",
    "         }\n",
    "isim = input(\"Lütfen isminizi girin: \")\n",
    "ders = input (\"Lütfen notunuzu öğrenmek istediğiniz dersin adını girin: \")\n",
    "\n",
    "if isim in sozluk and ders in sozluk[isim]:\n",
    "    print(f\"Sevgili {isim}, {ders} dersinden aldığınız not: {sozluk[isim][ders]}\")\n",
    "else: \n",
    "    print (\"Sistemde kayıtlı olmayan isim veya ders girdiniz. Lütfen tekrar deneyin.\")\n"
   ]
  },
  {
   "cell_type": "code",
   "execution_count": 35,
   "metadata": {},
   "outputs": [
    {
     "data": {
      "text/plain": [
       "{'Ali': {'Matematik': 75, 'Fizik': 52, 'Kimya': 67},\n",
       " 'Pelinsu': {'Matematik': 98, 'Fizik': 92, 'Kimya': 100},\n",
       " 'Mete': {'Matematik': 82, 'Fizik': 78, 'Kimya': 89}}"
      ]
     },
     "execution_count": 35,
     "metadata": {},
     "output_type": "execute_result"
    }
   ],
   "source": [
    "#Sözlük üzerinde değerleri değiştirme, yeni değer ekleme, kullanıcıya ulaşmak istediği bilgileri sorma gibi uygulamalar yapın.\n",
    "sozluk"
   ]
  },
  {
   "cell_type": "code",
   "execution_count": 50,
   "metadata": {},
   "outputs": [
    {
     "name": "stdin",
     "output_type": "stream",
     "text": [
      "Giriş tipinizi yazınız (Öğrenci/Öğretmen):  Öğretmen\n",
      "Notunu değiştirmek istediğiniz öğrenci adı yazın:  Pelinsu\n",
      "Öğrencinin notunu değiştirmek istediğiniz dersini yazın:  Fizik\n",
      "Güncel notu girin:  93\n"
     ]
    },
    {
     "name": "stdout",
     "output_type": "stream",
     "text": [
      "Pelinsu adlı öğrencinin Fizik dersine ait notu 93 olarak güncellendi.\n"
     ]
    }
   ],
   "source": [
    "#değer değiştirme yalnızca öğretmen tarafından yapılabilir olsun. \n",
    "#Bu nedenle basic bir giriş tipi eklendi. Öğrenci ise notunu görüntülüyor, öğretmen ise notu görüntülemeden yalnızca güncelliyor.  \n",
    "while True:\n",
    "    authorization = input (\"Giriş tipinizi yazınız (Öğrenci/Öğretmen): \")\n",
    "\n",
    "    if authorization == \"Öğrenci\":\n",
    "         isim = input(\"Lütfen isminizi girin: \")\n",
    "         ders = input (\"Lütfen notunuzu öğrenmek istediğiniz dersin adını girin: \")\n",
    "         \n",
    "         if isim in sozluk and ders in sozluk[isim]:\n",
    "            print(f\"Sevgili {isim}, {ders} dersinden aldığınız not: {sozluk[isim][ders]}\")\n",
    "         else: \n",
    "            print (\"Sistemde kayıtlı olmayan isim veya ders girdiniz. Lütfen tekrar deneyin.\")\n",
    "         break\n",
    "    \n",
    "    \n",
    "    if authorization == \"Öğretmen\":\n",
    "        hedef_ogrenci = input (\"Notunu değiştirmek istediğiniz öğrenci adı yazın: \")\n",
    "        hedef_ders = input (\"Öğrencinin notunu değiştirmek istediğiniz dersini yazın: \")\n",
    "        guncel_not = int(input (\"Güncel notu girin: \"))\n",
    "\n",
    "        if hedef_ogrenci in sozluk and hedef_ders in sozluk[hedef_ogrenci]:\n",
    "            sozluk[hedef_ogrenci][hedef_ders] = guncel_not\n",
    "            print(f\"{hedef_ogrenci} adlı öğrencinin {hedef_ders} dersine ait notu {guncel_not} olarak güncellendi.\")\n",
    "        else: \n",
    "            print(\"Girdiğiniz bilgilere uygun öğrenci ya da ders bulunamadı\")\n",
    "        break\n"
   ]
  },
  {
   "cell_type": "code",
   "execution_count": 51,
   "metadata": {},
   "outputs": [
    {
     "data": {
      "text/plain": [
       "{'Ali': {'Matematik': 75, 'Fizik': 52, 'Kimya': 67},\n",
       " 'Pelinsu': {'Matematik': 98, 'Fizik': 93, 'Kimya': 100},\n",
       " 'Mete': {'Matematik': 82, 'Fizik': 78, 'Kimya': 89}}"
      ]
     },
     "execution_count": 51,
     "metadata": {},
     "output_type": "execute_result"
    }
   ],
   "source": [
    "sozluk"
   ]
  },
  {
   "cell_type": "code",
   "execution_count": 52,
   "metadata": {},
   "outputs": [
    {
     "name": "stdin",
     "output_type": "stream",
     "text": [
      "Eklemek istediğiniz öğrenci adını yazın:  Gökçe\n",
      "Öğrencinin Matematik dersi notunu girin:  75\n",
      "Öğrencinin Fizik dersi notunu girin:  80\n",
      "Öğrencinin Kimya dersi notunu girin:  90\n"
     ]
    },
    {
     "name": "stdout",
     "output_type": "stream",
     "text": [
      "Gökçe adlı öğrenci başarıyla eklendi.\n"
     ]
    }
   ],
   "source": [
    "# yeni değer ekleme, yeni öğrenci ekleme şeklinde yapılsın. Bu defa auth olmadan, öğretmen olduğu varsayıldı. \n",
    "yeni_ogrenci = input(\"Eklemek istediğiniz öğrenci adını yazın: \")\n",
    "matematik_notu = int(input(\"Öğrencinin Matematik dersi notunu girin: \"))\n",
    "fizik_notu = int(input(\"Öğrencinin Fizik dersi notunu girin: \"))\n",
    "kimya_notu = int(input(\"Öğrencinin Kimya dersi notunu girin: \"))\n",
    "\n",
    "sozluk[yeni_ogrenci] = {\"Matematik\": matematik_notu,\n",
    "                        \"Fizik\": fizik_notu,\n",
    "                        \"Kimya\": kimya_notu\n",
    "                       }\n",
    "print(f\"{yeni_ogrenci} adlı öğrenci başarıyla eklendi.\")"
   ]
  },
  {
   "cell_type": "code",
   "execution_count": 53,
   "metadata": {},
   "outputs": [
    {
     "data": {
      "text/plain": [
       "{'Ali': {'Matematik': 75, 'Fizik': 52, 'Kimya': 67},\n",
       " 'Pelinsu': {'Matematik': 98, 'Fizik': 93, 'Kimya': 100},\n",
       " 'Mete': {'Matematik': 82, 'Fizik': 78, 'Kimya': 89},\n",
       " 'Gökçe': {'Matematik': 75, 'Fizik': 80, 'Kimya': 90}}"
      ]
     },
     "execution_count": 53,
     "metadata": {},
     "output_type": "execute_result"
    }
   ],
   "source": [
    "sozluk"
   ]
  },
  {
   "cell_type": "code",
   "execution_count": null,
   "metadata": {},
   "outputs": [],
   "source": []
  }
 ],
 "metadata": {
  "colab": {
   "provenance": []
  },
  "kernelspec": {
   "display_name": "Python [conda env:base] *",
   "language": "python",
   "name": "conda-base-py"
  },
  "language_info": {
   "codemirror_mode": {
    "name": "ipython",
    "version": 3
   },
   "file_extension": ".py",
   "mimetype": "text/x-python",
   "name": "python",
   "nbconvert_exporter": "python",
   "pygments_lexer": "ipython3",
   "version": "3.12.7"
  }
 },
 "nbformat": 4,
 "nbformat_minor": 4
}
